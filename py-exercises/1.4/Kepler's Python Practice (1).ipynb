{
 "cells": [
  {
   "cell_type": "markdown",
   "metadata": {},
   "source": [
    "# Python is for ~~the birds~~ dogs\n",
    "\n",
    "Kepler is a smart dog. You can follow him on http://darlingdapperdachshund.com/\n",
    "\n",
    "He put his favorite numbers in the python list below:\n",
    "\n",
    "keplers_fav_numbers = [1, 1, 2, 3, 5, 8, 13, 21, 34, 55, 89]\n",
    "\n",
    "Update the list below to include the numbers 0 and 144.\n"
   ]
  },
  {
   "cell_type": "code",
   "execution_count": 17,
   "metadata": {},
   "outputs": [
    {
     "name": "stdout",
     "output_type": "stream",
     "text": [
      "[1, 1, 2, 3, 5, 8, 13, 21, 34, 55, 89, 144, 0]\n",
      "[1, 1, 2, 3, 5, 8, 13, 21, 34, 55, 89, 144, 0]\n",
      "[1, 1, 2, 3, 0]\n"
     ]
    }
   ],
   "source": [
    "keplers_fav_numbers = [1, 1, 2, 3, 5, 8, 13, 21, 34, 55, 89]\n",
    "keplers_fav_numbers.append(144)\n",
    "keplers_fav_numbers.append(0)\n",
    "print(keplers_fav_numbers)\n",
    "\n",
    "print(keplers_fav_numbers)\n",
    "less_than_5 = list(filter(lambda x: x < 5, keplers_fav_numbers))\n",
    "print(less_than_5)"
   ]
  },
  {
   "cell_type": "markdown",
   "metadata": {},
   "source": [
    "Write a program that prints out all the elements of the list that are less than 5."
   ]
  },
  {
   "cell_type": "code",
   "execution_count": 32,
   "metadata": {},
   "outputs": [
    {
     "name": "stdout",
     "output_type": "stream",
     "text": [
      "[1, 1, 2, 3, 5, 8, 13, 21, 34, 55, 89, 144, 0]\n",
      "[1, 1, 2, 3, 0]\n",
      "1\n",
      "1\n",
      "2\n",
      "3\n",
      "0\n"
     ]
    }
   ],
   "source": [
    "print(keplers_fav_numbers)\n",
    "less_than_5 = list(filter(lambda x: x < 5, keplers_fav_numbers))\n",
    "print(less_than_5)\n",
    "\n",
    "for fav_number in keplers_fav_numbers:\n",
    "    if fav_number < 5:\n",
    "        print(fav_number)"
   ]
  },
  {
   "cell_type": "markdown",
   "metadata": {},
   "source": [
    "Write a function with the name `print_keplers_numbers` that prints all of the elements of the list that are less than 5."
   ]
  },
  {
   "cell_type": "code",
   "execution_count": 35,
   "metadata": {},
   "outputs": [
    {
     "name": "stdout",
     "output_type": "stream",
     "text": [
      "1\n",
      "1\n",
      "2\n",
      "3\n",
      "0\n"
     ]
    }
   ],
   "source": [
    "def print_keplers_numbers():\n",
    "    for fav_number in keplers_fav_numbers:\n",
    "        if fav_number < 5:\n",
    "            print(fav_number)\n",
    "            \n",
    "print_keplers_numbers()"
   ]
  },
  {
   "cell_type": "code",
   "execution_count": 34,
   "metadata": {},
   "outputs": [
    {
     "name": "stdout",
     "output_type": "stream",
     "text": [
      "1\n",
      "3\n",
      "4\n",
      "6\n"
     ]
    }
   ],
   "source": [
    "my_numbers = [1, 3, 4, 6]\n",
    "\n",
    "def print_keplers_numbers(numbers):\n",
    "    for number in numbers:\n",
    "        print(number)\n",
    "        \n",
    "print_keplers_numbers(my_numbers)  "
   ]
  },
  {
   "cell_type": "markdown",
   "metadata": {},
   "source": [
    "Write a new function called `get_keplers_numbers`. Instead of printing the elements one by one, make a new list that has all the elements less than 5 and print the new list."
   ]
  },
  {
   "cell_type": "code",
   "execution_count": 43,
   "metadata": {},
   "outputs": [
    {
     "name": "stdout",
     "output_type": "stream",
     "text": [
      "[1, 1, 2, 3, 0]\n",
      "[1, 1, 2, 3, 5, 8, 13, 21, 34, 55, 89, 0]\n"
     ]
    }
   ],
   "source": [
    "def get_keplers_numbers():\n",
    "    less_than_5 = list(filter(lambda x: x < 5, keplers_fav_numbers))\n",
    "    print(less_than_5)\n",
    "get_keplers_numbers()\n",
    "\n",
    "def find_keplers_numbers(x):\n",
    "    new_list = []\n",
    "    for fav_number in keplers_fav_numbers:\n",
    "        if fav_number < x:\n",
    "            new_list.append(fav_number)\n",
    "    print(new_list)\n",
    "find_keplers_numbers(100)"
   ]
  },
  {
   "cell_type": "code",
   "execution_count": null,
   "metadata": {
    "scrolled": true
   },
   "outputs": [],
   "source": [
    "get_keplers_numbers()"
   ]
  },
  {
   "cell_type": "markdown",
   "metadata": {},
   "source": [
    "Update your function to use a parameter that will accept a number and use that to return only element from the original list that are smaller than that number."
   ]
  },
  {
   "cell_type": "code",
   "execution_count": 47,
   "metadata": {},
   "outputs": [
    {
     "data": {
      "text/plain": [
       "[1, 1, 2, 3, 5, 8, 13, 0]"
      ]
     },
     "execution_count": 47,
     "metadata": {},
     "output_type": "execute_result"
    }
   ],
   "source": [
    "def find_keplers_numbers(x):\n",
    "    new_list = []\n",
    "    for fav_number in keplers_fav_numbers:\n",
    "        if fav_number < x:\n",
    "            new_list.append(fav_number)\n",
    "    return(new_list)\n",
    "find_keplers_numbers(20)"
   ]
  },
  {
   "cell_type": "code",
   "execution_count": 48,
   "metadata": {},
   "outputs": [
    {
     "name": "stdout",
     "output_type": "stream",
     "text": [
      "[1, 1, 2, 3, 5, 8, 13, 21, 0]\n"
     ]
    }
   ],
   "source": [
    "result = find_keplers_numbers(34)\n",
    "print(result)"
   ]
  }
 ],
 "metadata": {
  "kernelspec": {
   "display_name": "Python 3",
   "language": "python",
   "name": "python3"
  },
  "language_info": {
   "codemirror_mode": {
    "name": "ipython",
    "version": 3
   },
   "file_extension": ".py",
   "mimetype": "text/x-python",
   "name": "python",
   "nbconvert_exporter": "python",
   "pygments_lexer": "ipython3",
   "version": "3.7.2"
  }
 },
 "nbformat": 4,
 "nbformat_minor": 2
}
